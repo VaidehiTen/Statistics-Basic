{
  "nbformat": 4,
  "nbformat_minor": 0,
  "metadata": {
    "colab": {
      "provenance": []
    },
    "kernelspec": {
      "name": "python3",
      "display_name": "Python 3"
    },
    "language_info": {
      "name": "python"
    }
  },
  "cells": [
    {
      "cell_type": "markdown",
      "source": [
        "#**Statistics Basics Assignment Questions**"
      ],
      "metadata": {
        "id": "a-PylsgvEIMp"
      }
    },
    {
      "cell_type": "markdown",
      "source": [
        "1. **What is statistics, and why is it important?**\n",
        "-  **Statistics** is like a math toolbox. It's a part of math that helps collect, break down, understand, and shows heaps of number data. When we work with data analysis, statistics is like the backbone. It gives analysts a way to dig up smart insights, make solid choices, and guess what's coming next based on old data. It's like the motor that transforms plain data into useful information.\n",
        "  - **Collection**: Gathering data relevant to a specific question or problem.\n",
        "  - **Analysis**: Applying mathematical and computational techniques to summarize, describe, and explore the data.\n",
        "  - **Interpretation**: Drawing meaningful conclusions and inferences from the analyzed data.\n",
        "  - **Presentation**: Communicating findings effectively through visualizations, reports, and other means.\n",
        "  - **Organization**: Structuring data in a way that facilitates analysis and understanding.\n",
        "-  **Importance of Statistics**  \n",
        "  - **Understanding Data**: Data Analysis and Statistics go hand in hand. Statistics provides processes which outline and sum up data. It assists us in recognizing the hidden patterns and traits and this is why statistics uses methods such as mean, median, mode, range, variance and standard deviation.\n",
        "  - **Making decisions**: Statistics tools aid us in uncertainty. Hypothes is testing and confidence intervals help us figure out the probability of certain outcomes. This way, we lower the risk when we have to decide something.\n",
        "  - **Identifying Anomalies and Outliers** : Statistics can help in identifying unusual data points that might indicate errors or unexpected events.\n",
        "  - **Identifying Relationship**: Statistics use methods like correlation and regression to find and study how variables connect. This is especially important in fields like economics. Knowing how elements relate can help shape policies and guide investment decisions.\n",
        "  - **Drawing Conclusions**: Inferential statistics allow data experts to make predictions for a bigger group using just a sample. This is vital in areas such as market studies, public health, and any sector where the key to decision-making hinges on data interpretation.\n",
        "  - **Quality Check**: Stats play a key role in monitoring product and service quality. With tools like control charts and methods for improving processes, it ensures that the businesses keep their standards high."
      ],
      "metadata": {
        "id": "xu3_geHXESfi"
      }
    },
    {
      "cell_type": "markdown",
      "source": [
        "2. **What are the two main types of statistics?**\n",
        "-  The two main types of statistics are descriptive statistics and inferential statistics.\n",
        "  > **descriptive statistics** : Descriptive is considered to be the simplest form of statistical analysis that quantifies data. It doesn't jump to conclusions. Instead, it describes raw data in understandable numbers. Common methods include:\n",
        "  - Summarizing data using mean, median, mode\n",
        "  - Variability measures like standard deviation and variance\n",
        "  - Visualization tools like bar charts, box plots and histogram\n",
        "  \n",
        "  > **inferential statistics** : From a smaller sample, inferential statistics can make educated guesses about larger groups. It uses probabilistic modeling to do this. Important components include:\n",
        "  - Hypothesis testing to determine if data samples are representative of broader trends.\n",
        "  - Confidence intervals Using confidence ranges to gauge how unsure or sure we are of a sampling approach.\n"
      ],
      "metadata": {
        "id": "LsjwfUI7JYce"
      }
    },
    {
      "cell_type": "markdown",
      "source": [
        "3. **What are descriptive statistics?**\n",
        "-  Descriptive statistics summarize and organize characteristics of a data set. A data set is a collection of responses or observations from a sample or entire population.\n",
        "- The primary goal of descriptive analysis is to provide a clear and concise summary of the data, enabling researchers or analysts to gain insights and understand patterns, trends, and distributions within the dataset.\n",
        "-  In quantitative research, after collecting data, the first step of statistical analysis is to describe characteristics of the responses, such as the average of one variable (e.g., age), or the relation between two variables (e.g., age and creativity).\n",
        "- Descriptive statistics also involves a graphical representation of data through charts, graphs, and tables, which can further aid in visualizing and interpreting the information. Common graphical techniques include histograms, bar charts, pie charts, scatter plots, and box plots.\n",
        "- There are 3 main types of descriptive statistics:\n",
        "  - The distribution concerns the frequency of each value.\n",
        "  - The central tendency concerns the averages of the values.\n",
        "  - The variability or dispersion concerns how spread out the values are.\n",
        "-  Purpose:\n",
        "  - To present data in a meaningful and understandable way.\n",
        "  - To reveal the main features of the data.\n",
        "  - To provide a foundation for further statistical analysis.   "
      ],
      "metadata": {
        "id": "OW-mpUSkK7Mg"
      }
    },
    {
      "cell_type": "markdown",
      "source": [
        "4. **What is inferential statistics?**\n",
        "-  While descriptive statistics summarize the characteristics of a data set, inferential statistics help you come to conclusions and make predictions based on your data.Key techniques include:\n",
        "  - **Hypothesis Testing**: Identify whether or not there is sufficient evidence to reject a null hypothesis.\n",
        "  - **Confidence Intervals**: The process of estimating the range that determines the point in time at which a population parameter falls with a specific level of confidence.\n",
        "  - **Regression Analysis**: Investigating the connection between the variables that are dependent and those that are independent.\n",
        "-  When you have collected data from a sample, you can use inferential statistics to understand the larger population from which the sample is taken.\n",
        "-  Inferential statistics is used to estimate population parameters from sample data and to test hypotheses about relationships or differences between groups.\n",
        "-  Purpose:\n",
        "  > Inferential statistics aims to:\n",
        "  - Estimate population parameters: Use sample statistics to estimate unknown population parameters.\n",
        "  - Test hypotheses: Determine whether there is enough evidence to support a claim about the population.\n",
        "  - Make predictions: Use sample data to predict future outcomes or trends.\n",
        "  - Assess the reliability of findings: Determine how likely it is that the results obtained from a sample are representative of the larger population.\n"
      ],
      "metadata": {
        "id": "TNNH3HdDOblq"
      }
    },
    {
      "cell_type": "markdown",
      "source": [
        "5. **What is sampling in statistics?**\n",
        "-  Sampling is a statistical technique for efficiently analyzing large datasets by selecting a representative subset. Rather than analyzing an entire dataset, sampling analyzes a small portion so researchers can make conclusions about a larger population. This allows for informed decision-making without exhaustive data collection.  "
      ],
      "metadata": {
        "id": "8m2_-jqoQ2Lp"
      }
    },
    {
      "cell_type": "markdown",
      "source": [
        "6. **What are the different types of sampling methods?**\n",
        "-  There are two major types of sampling methods: **probability and non-probability sampling**.\n",
        "\n",
        "> **Probability sampling**, also known as **random sampling**, is a kind of sample selection where randomisation is used instead of deliberate choice. Each member of the population has a known, non-zero chance of being selected.\n",
        "  There’s a wide range of probability sampling methods to explore and consider. Here are some of the best-known options.\n",
        "  - **Simple Random Sampling**: With simple random sampling, every element in the population has an equal chance of being selected as part of the sample. It’s something like picking a name out of a hat. Simple random sampling can be done by anonymising the population – e.g. by assigning each item or person in the population a number and then picking numbers at random.(Each individual has an equal and random chance of being selected.)\n",
        "  - **Systematic Sampling**: With systematic sampling the random selection only applies to the first item chosen. A rule then applies so that every nth item or person after that is picked. (Elements are selected at regular intervals from the population.)\n",
        "  - **Stratified Sampling**: Stratified sampling involves random selection within predefined groups. It’s a useful method for researchers wanting to determine what aspects of a sample are highly correlated with what’s being measured. They can then decide how to subdivide (stratify) it in a way that makes sense for the research(The population is divided into subgroups (strata), and samples are drawn from each.)\n",
        "  - **Cluster Sampling**: With cluster sampling, groups rather than individual units of the target population are selected at random for the sample. These might be pre-existing groups, such as people in certain zip codes or students belonging to an academic year.\n",
        "  Cluster sampling can be done by selecting the entire cluster, or in the case of two-stage cluster sampling, by randomly selecting the cluster itself, then selecting at random again within the cluster.(The population is divided into clusters, and then entire clusters are randomly selected.)\n",
        "\n",
        "\n",
        "> **Non-probability** sampling techniques are where the researcher deliberately picks items or individuals for the sample based on non-random factors such as convenience, geographic availability, or costs.Here are some forms of non-probability sampling and how they work.\n",
        "  -  **Convenience Sampling**: People or elements in a sample are selected on the basis of their accessibility and availability. If you are doing a research survey and you work at a university, for example, a convenience sample might consist of students or co-workers who happen to be on campus with open schedules who are willing to take your questionnaire.(Participants are selected based on their ease of access and availability.)\n",
        "  - **Purposive Sampling**: Participants for the sample are chosen consciously by researchers based on their knowledge and understanding of the research question at hand or their goals.\n",
        "  Also known as judgment sampling, this technique is unlikely to result in a representative sample, but it is a quick and fairly easy way to get a range of results or responses.(Participants are chosen based on specific criteria or characteristics relevant to the research.)\n",
        "  - **Snowball Sampling**: With this approach, people recruited to be part of a sample are asked to invite those they know to take part, who are then asked to invite their friends and family and so on. The participation radiates through a community of connected individuals like a snowball rolling downhill(Participants are asked to refer other potential participants, often useful for finding hidden or hard-to-reach populations.)\n",
        "  - **Quota Sampling**: Like the probability-based stratified sampling method, this approach aims to achieve a spread across the target population by specifying who should be recruited for a survey according to certain groups or criteria.(The population is divided into subgroups, and quotas are set for the number of participants needed from each.)"
      ],
      "metadata": {
        "id": "JA4rG2R5SAGg"
      }
    },
    {
      "cell_type": "markdown",
      "source": [
        "7. **What is the difference between random and non-random sampling?**\n",
        "-  **Random sampling**, as the name suggests, involves selecting samples randomly. In this method, every sample has an equal chance of being selected. This ensures that the chosen sample is an unbiased representation of the entire population. However, if the sample does not accurately reflect the population, it can lead to a sampling error.\n",
        "  - Based on : This method is based on probability.\n",
        "  - Representation of Population : Random sampling accurately represents the entire population.\n",
        "  - Biases involved in Sampling : Random sampling is unbiased.\n",
        "  - Advantages : (**1**). High representative: Lower bias lead to more generalisable findings. (**2**). Accepted Statistical Validity : Compatible with the wide range of Statistical Analyses. (**3**). Equal Opportunity : Every individual has the same chance of being included\n",
        "  - Disadvantages : (**1**). Resource intensive : requires comphrensive population data and significant planning. (**2**). Not Always Feasible : Difficult if the population is large or not well defined.\n",
        "- **Non-random sampling** involves selecting samples based on factors other than random chance. This method is biased because the selection of samples depends on the convenience, judgment, or experience of the researcher.\n",
        "  - Based on : This method is based on factors like convenience, judgment, and experience of the researcher.\n",
        "  - Representation of Population : Non-random sampling may not accurately represent the entire population.\n",
        "  - Biases involved in Sampling : Non-random sampling is biased.\n",
        "  - Advantages : (**1**). Convenience : Quick and easy to implement. (**2**).Cost Effective : Fewer logistical hurdles. (**3**). Targeted selection : Researchers can focus on specific traits or rare groups.\n",
        "  - Disadvantages : (**1**). Higher Bias : Results may not be generalisable to the broader population. (**2**). Limited Statistical Rigor: Harder to apply probability based analyses. (**3**). Zero Probability : Same segments are automatically excluded.\n"
      ],
      "metadata": {
        "id": "yhMgdtYFYT7k"
      }
    },
    {
      "cell_type": "markdown",
      "source": [
        "8. **Define and give examples of qualitative and quantitative data.**\n",
        "- **Qualitative data** : Qualitative data analysis describes information and cannot be measured or counted. It refers to the words or labels used to describe certain characteristics or traits.\n",
        "You would turn to qualitative data to answer the \"why?\" or \"how?\" questions. It is often used to investigate open-ended studies, allowing participants (or customers) to show their true feelings and actions without guidance.\n",
        "  > Qualitative data example\n",
        "  - Customer feedback: \"The service was excellent,\" or \"The food was bland\".\n",
        "  - Survey responses: Open-ended questions that allow for detailed, descriptive answers.\n",
        "  - Interview transcripts: Textual data from interviews that capture people's experiences and perspectives.\n",
        "  - Observations: Notes taken during an observation, describing what is seen or heard.\n",
        "  - My manager has curly brown hair and blue eyes.\n",
        "  - My coworker is funny, loud, and a good listener.\n",
        "  - The customer has a very friendly face and a contagious laugh.\n",
        "  - The eggs were delicious.\n",
        "-  **Quantitative data** : Quantitative data refers to any information that can be quantified — that is, numbers. If it can be counted or measured, and given a numerical value, it's quantitative in nature. Think of it as a measuring stick.\n",
        "Quantitative variables can tell you \"how many,\" \"how much,\" or \"how often.\"\n",
        "  > Quantitative data example\n",
        "  - Website traffic: Number of visitors to a website.\n",
        "  - Sales figures: Revenue generated, number of units sold.\n",
        "  - Population size: Number of people in a city or country.\n",
        "  - Age: 25 years old, 40 years old, etc.\n",
        "  - Height: 5'10\", 1.75 meters, etc.\n",
        "  - The customer has clicked on the button 13 times.\n",
        "  - The engineer has resolved 34 support tickets today.\n",
        "  - The team has completed 7 upgrades this month.\n",
        "  - 14 cartons of eggs were purchased this month.\n"
      ],
      "metadata": {
        "id": "O91VTgRheEek"
      }
    },
    {
      "cell_type": "markdown",
      "source": [
        "9. **What are the different types of data in statistics?**\n",
        "-  Data is broadly classified into qualitative and quantitative, which are further divided into sub-categories. Qualitative data comprises nominal and ordinal data, whereas quantitative data consists of discrete and continuous data.\n",
        "-  **Quantitative data** :\n",
        "- You can measure quantitative data. You can numerically record and represent this data measurement. Moreover, it serves as a foundation for calculations and interpretations.\n",
        "- With access to quantitative data, you can answer questions like “how many, \"“how much,” and “how often.”\n",
        "- For instance, quantitative data of the ratings collected from consumers who found the software satisfactory helps generate an overall product review.\n",
        "- Quantitative data can easily be represented using bar graphs, scatter plots, charts, and other statistical methods.\n",
        "-   examples of quantitative data:\n",
        "  >Income of individuals\n",
        "\n",
        "  >Daily temperature\n",
        "\n",
        "  >Test scores\n",
        "\n",
        "  >Price of items\n",
        "\n",
        "  >Number of hours of study\n",
        "\n",
        "  >Weight of a person\n",
        "-  Two types of quantitative data in statistics are **discrete data** and **continuous data**:   \n",
        "  - **Discrete data** : refers to data values that can only attain specific values and not a range of values. In other words, discrete data involves only integers. It must be divided into parts.\n",
        "  >You can represent discrete data using bar charts, column charts, spider charts, stacked bar charts, and stacked column charts.\n",
        "  \n",
        "  - **Continuous data** is quantitative data that describes data points that are not separated by distinct intervals.It can include values between a specific range and be further divided into parts. Its values typically lie within the highest and lowest values.\n",
        "  - Continuous data changes over time, may or may not be whole numbers, and is measured using line graphs, skews, and other data analysis methods.\n",
        "\n",
        "-  **Qualitative data**  \n",
        "\n",
        "- Qualitative data represents an attribute or characteristic. You cannot compute the facts and figures represented by qualitative data, which reflects observable properties with a non-numerical nature. Its attributes are exploratory instead of conclusive.\n",
        "- Qualitative data is also termed categorical data because it can be sorted into categories rather than numbers. It answers important questions like “how things happened” or “why they happened.”  \n",
        "-  examples of qualitative data:\n",
        "  > The beauty of a person\n",
        "\n",
        "  >Intelligence\n",
        "\n",
        "  >Favourite holiday destination\n",
        "\n",
        "  >Ethnicity\n",
        "\n",
        "  >Birth cities\n",
        "\n",
        "  >Colours of the land\n",
        "-  **Nominal data** and **ordinal data** are two types of qualitative data:\n",
        "  -  **Nominal data** Nominal data is a type of qualitative data that symbolises variables without assigning them numeric values. You cannot measure nominal data attributes, but you can examine nominal variables using the grouping method. Pie charts are typically used to visualise this type of data.\n",
        "  -  **ordinal data** Ordinal data is a specific type of data that shows a number in order. Since it only reflects a sequence, you cannot perform arithmetic calculations on ordinal data.\n",
        "  The data are arranged in a sequence according to their values on a scale, which can indicate superiority or inferiority.Ordinal data can be examined using visualisation tools such as a bar chart or tables in which every row corresponds to a distinct category.."
      ],
      "metadata": {
        "id": "9E51irD2qit2"
      }
    },
    {
      "cell_type": "markdown",
      "source": [
        "10. **Explain nominal, ordinal, interval, and ratio levels of measurement.**\n",
        "-  The nominal, ordinal, interval & ratio levels of measurement are scales that allow us to measure and classify gathered data in well-defined variables to be used for different purposes.\n",
        "-  Mainly used for these four scales are:\n",
        "  > **Nominal**:\n",
        "  -  also called the categorical variable scale, is defined as a scale that labels variables into distinct classifications and doesn’t involve a quantitative value or order.\n",
        "  - This scale is the simplest of the four variable measurement scales. Calculations done on these variables will be futile as the options have no numerical value.\n",
        "  - There are cases where this scale is used for the purpose of classification – the numbers associated with variables of this scale are only tags for categorization or division.\n",
        "  - Used to categorize data into mutually exclusive categories or groups.\n",
        "  \n",
        "  >**Ordinal**:\n",
        "  - Ordinal Scale is defined as a variable measurement scale used to simply depict the order of variables and not the difference between each variable. These scales generally depict non-mathematical ideas such as frequency, satisfaction, happiness, a degree of pain, etc.\n",
        "  - It is quite straightforward to remember the implementation of this scale as ‘Ordinal’ sounds similar to ‘Order,’ which is exactly the purpose of this scale.\n",
        "  - Ordinal scale data can be presented in tabular or graphical formats for a researcher to conduct a convenient analysis of collected data.\n",
        "  - Used to measure variables in a natural order, such as rating or ranking. They provide meaningful insights into attitudes, preferences, and behaviors by understanding the order of responses.\n",
        "  \n",
        "  >**Interval**:\n",
        "  - Interval Scale is defined as a numerical scale where the variables’ order is known and the difference between these variables. Variables that have familiar, constant, and computable differences are classified using the Interval scale.\n",
        "  - It is easy to remember the primary role of this scale, too, ‘Interval’ indicates ‘distance between two entities,’ which is what the Interval scale helps achieve\n",
        "  - These scales are effective as they open doors for the statistical analysis of provided data. Mean, median, or mode can be used to calculate the central tendency in this scale. The only drawback of this scale is that there is no pre-decided starting point or a true zero value.\n",
        "  - The interval scale contains all the properties of the ordinal scale and offers a calculation of the difference between variables. The main characteristic of this scale is the equidistant difference between objects.  \n",
        "  - Used to measure variables with equal intervals between values. Temperature and time often make use of this type of measurement, enabling precise comparisons and calculations.\n",
        "  \n",
        "  >**Ratio**:\n",
        "  - Ratio Scale is defined as a variable measurement scale that not only produces the order of variables but also makes the difference between variables known, along with information on the value of true zero.\n",
        "  - It is calculated by assuming that the variables have an option for zero, the difference between the two variables is the same, and there is a specific order between the options.\n",
        "  - With the option of true zero, varied inferential statistics and descriptive analysis techniques can be applied to the variables. In addition to the fact that the ratio scale does everything that a nominal, ordinal, and interval scale can do, it can also establish the value of absolute zero\n",
        "  - Because of the existence of a true zero value, the ratio scale doesn’t have negative values.\n",
        "  - Allows for comparisons and computations such as ratios, percentages, and averages. Great for research in fields like science, engineering, and finance, where you need to use ratios, percentages, and averages to understand the data."
      ],
      "metadata": {
        "id": "p3YkyBa7vpFv"
      }
    },
    {
      "cell_type": "markdown",
      "source": [
        "11. **What is the measure of central tendency?**\n",
        "-  Central tendencies in statistics are numerical values that represent the middle or typical value of a dataset. Also known as averages, they provide a summary of the entire data, making it easier to understand the overall pattern or behavior. These values are useful because they capture the essence of large datasets in a single, representative number.\n",
        "-  The three most commonly used measures of central tendency are **mean, median, and mode**.\n",
        "-  Each measure of central tendency provides a different perspective on the \"center\" of the data, and the most appropriate measure to use depends on the specific characteristics of the dataset and the purpose of the analysis. For example, the mean is sensitive to outliers (extreme values), while the median is not."
      ],
      "metadata": {
        "id": "4Ne9BZjY00i5"
      }
    },
    {
      "cell_type": "markdown",
      "source": [
        "12. **Define mean, median, and mode.**\n",
        "-  The central tendency of the dataset can be found out using the three important measures namely mean, median and mode.\n",
        "-  **Mean** : The mean represents the average value of the dataset. It can be calculated as the sum of all the values in the dataset divided by the number of values. In general, it is considered as the arithmetic mean. Some other measures of mean used to find the central tendency are as follows:\n",
        "  - Geometric Mean\n",
        "  - Harmonic Mean\n",
        "  - Weighted Mean\n",
        "- **Median** : Median is the middle value of the dataset in which the dataset is arranged in the ascending order or in descending order. When the dataset contains an even number of values, then the median value of the dataset can be found by taking the mean of the middle two values.  \n",
        "- **Mode** : The mode represents the most frequently occurring value in a dataset. It is suitable for categorical or discrete data. The mode helps identify the most common category or value, making it useful for market analysis, product preferences, or survey responses.\n"
      ],
      "metadata": {
        "id": "cNPfRy-21pUY"
      }
    },
    {
      "cell_type": "markdown",
      "source": [
        "13. **What is the significance of the measure of central tendency?**\n",
        "-  **Significance of Measures of Central Tendency:**\n",
        "-  Measures of central tendency are essential in data analysis as they provide a summary of the data by indicating where the data is concentrated. They are used to represent a typical value that can be used to make comparisons between datasets.\n",
        "-  Central tendency is important because it helps to simplify complex data sets and make them easier to understand. It provides a single value that can represent the entire dataset, which can be useful in making quick comparisons between datasets.\n",
        "-  Central tendency helps us in making decisions based on the data. For example, if we know the mean salary of employees in a company, we can use this information to make decisions about how to allocate resources or adjust compensation.\n",
        "-  Additionally, the central tendency is often used to detect outliers or extreme values that may be skewing the data. This can help identify potential errors in the data or uncover underlying patterns that may be hidden in the dataset.\n",
        "-  measures of central tendency are important tools in data analysis, providing valuable information that can aid in decision-making and help us understand the key features of a dataset."
      ],
      "metadata": {
        "id": "X0gMPhU5258l"
      }
    },
    {
      "cell_type": "markdown",
      "source": [
        "14. **What is variance, and how is it calculated?**\n",
        "-   The variance is a measure of variability. It is calculated by taking the average of squared deviations from the mean.\n",
        "-   Variance tells you the degree of spread in your data set. The more spread the data, the larger the variance is in relation to the mean.\n",
        "-   If the variance is small, it means most numbers are close to the mean. If the variance is large, it means the numbers are spread out more widely.\n",
        "-   A higher variance indicates greater variability, meaning the data is spread, while a lower variance suggests the data points are closer to the mean.\n",
        "-   Investors use variance to see how much risk an investment carries and whether it will be profitable.\n",
        "-   Variance is also used in finance to compare the relative performance of each asset in a portfolio to achieve the best asset allocation.\n",
        "-   The square root of the variance is the standard deviation.\n",
        "-   The steps to calculate the variance of a given set of values are:\n",
        "    - Step 1: Calculate the mean of the observation using the formula (Mean = Sum of Observations/Number of Observations)\n",
        "    - Step 2: Calculate the squared differences of the data values from the mean. (Data Value - Mean)2\n",
        "    - Step 3: Calculate the average of the squared differences of the given values, which is called the variance of the data set."
      ],
      "metadata": {
        "id": "bkLF5OUn4egb"
      }
    },
    {
      "cell_type": "markdown",
      "source": [
        "15. **What is standard deviation, and why is it important?**\n",
        "-  **Definition** : Standard deviation is the degree of dispersion or we can say the scatter of the data points relative to its mean. It tells how the values are spread across the data sample and it is the measure of the variation of the data points from the mean.\n",
        "-  **Importance of Standard Deviation**:\n",
        "   - It measures the deviation from the mean, which is a vital statistic. It shows a central tendency.\n",
        "   - It is significant in measuring the accuracy and precision of a single typical measurement. It is also a measure of spread of data around the mean.\n",
        "   - Since it is the positive square root, all the values we get are positive, making it easy for further interpretations and calculations.\n",
        "   - Standard deviation is highly used in the field of finance. Finance and banking are all about measuring risk, and standard deviation measures risk, i.e., volatility.\n",
        "   - Standard deviation is used by portfolio managers. The Sharpe ratio in portfolio management uses standard deviation.\n",
        "   - Standard deviation is used to carry out mathematical operations and statistical and data analysis."
      ],
      "metadata": {
        "id": "gxfFdFCW6cmI"
      }
    },
    {
      "cell_type": "markdown",
      "source": [
        "16. **Define and explain the term range in statistics.**\n",
        "-   In statistics, the range is a simple measure of dispersion that represents the difference between the highest and lowest values in a dataset. It provides a quick understanding of the spread or variability of the data.\n",
        "-   Range is a fundamental statistical concept that helps us understand the spread or variability of data within a dataset. Range in Statistics provides valuable insights into the extent of variation among the values in a dataset. Range quantifies the difference between the highest and lowest values in the dataset.\n",
        "-   To calculate the range, you subtract the minimum value from the maximum value in the dataset.\n",
        "-   Below is the range formula of statistics.\n",
        "    > Range = Maximum Value - Minimum Value\n",
        "-   The range indicates the total width of the data distribution. A larger range suggests greater variability, while a smaller range indicates data points are clustered closer together.\n",
        "-   How to calculate it:\n",
        "    > - Identify the largest (maximum) value in the dataset.\n",
        "    - Identify the smallest (minimum) value in the dataset.\n",
        "    - Subtract the minimum value from the maximum value: Range = Maximum value - Minimum value\n",
        "-   Limitations : The range is sensitive to outliers (extreme values). A single extreme value can significantly inflate or deflate the range, potentially misrepresenting the overall spread of the data.     "
      ],
      "metadata": {
        "id": "mT1_uGWl7eE3"
      }
    },
    {
      "cell_type": "markdown",
      "source": [
        "17. **What is the difference between variance and standard deviation?**\n",
        "-   **Difference between Variance and Standard Deviation**\n",
        "-   **Variance**\n",
        "    - It can simply be defined as the numerical value, which describes how variable the observations are.\n",
        "    - Variance is nothing but the average taken out of the squared deviations.\n",
        "    - Variance is expressed in Squared units.\n",
        "    - It is one of the key aspects of asset allocation in investing portfolios.\n",
        "    - It is mathematically denoted as (σ2).\n",
        "    - It helps determine the size of the data spread.\n",
        "    - Variance is a perfect indicator of the individuals spread out in a group.\n",
        "-   **Standard Deviation**\n",
        "    - It can simply be defined as the observations that get measured are measured through dispersion within a data set.\n",
        "    - Standard Deviation is defined as the root of the mean square deviation\n",
        "    - Standard deviation is expressed in the same units of the data available.\n",
        "    - It is primarily used as a measure of market and security volatility in finance.\n",
        "    - It is mathematically denoted as (σ).\n",
        "    - It measures the absolute variability of the dispersion.\n",
        "    - Standard deviation is the perfect indicator of the observations in a data set.     "
      ],
      "metadata": {
        "id": "ifHmsfop86u0"
      }
    },
    {
      "cell_type": "markdown",
      "source": [
        "18. **What is skewness in a dataset?**\n",
        "-   Skewness is a key statistical measure that shows how data is spread out in a dataset. It tells us if the data points are skewed to the left (negative skew) or to the right (positive skew) in relation to the mean.\n",
        "-   It is important because it helps us to understand the shape of the data distribution which is important for accurate data analysis and helps in identifying outliers and finding the best statistical methods to use for analysis.\n",
        "-   In a skewed distribution, the data is not evenly distributed, with one tail of the distribution being longer or fatter than the other.\n",
        "-   Skewness describes the direction and degree of asymmetry in a dataset’s distribution. Various types are as follows:\n",
        "    - **Positive Skewness** (Right Skew) : In a positively skewed distribution, the right tail is longer than the left which means most data points are on the left with a few large values pulling the distribution to the right.\n",
        "    - **Negative Skewness** (Left Skew) : In a negatively skewed distribution, the left tail is longer which means most data points are on the right with a few smaller values pulling the distribution to the left.\n",
        "    - **Zero Skewness** (Symmetrical Distribution) : Zero skewness shows a perfectly symmetrical distribution where the mean, median and mode are equal. In a symmetrical distribution, the data points are evenly distributed around the central point.\n",
        "-   Skewness can be visualized by examining the shape of the distribution. If the data is skewed, the mean will be pulled away from the center of the distribution towards the longer tail.\n",
        "-   Skewness can affect the results of statistical analyses and can indicate the presence of outliers or extreme values in the dataset.     "
      ],
      "metadata": {
        "id": "ilS1Oe0A_Bri"
      }
    },
    {
      "cell_type": "markdown",
      "source": [
        "19. **What does it mean if a dataset is positively or negatively skewed?**\n",
        "-   In a dataset, positive skew (right skew) indicates that the tail of the distribution is longer on the right side, with the mean typically greater than the median. Conversely, negative skew (left skew) indicates the tail is longer on the left side, with the mean typically less than the median.\n",
        "-   **Positively Skewed** (Right Skewed):\n",
        "   - The majority of the data points are clustered on the left side of the distribution, with a long tail extending towards the right.\n",
        "   - The mean is typically greater than the median because the extreme high values in the tail pull the mean upwards.\n",
        "   - Think of it like a graph where most of the data is on the lower end, and there are a few very high outliers.\n",
        "-   **Negatively Skewed** (Left Skewed):\n",
        "   - The majority of the data points are clustered on the right side of the distribution, with a long tail extending towards the left.\n",
        "   - The mean is typically less than the median because the extreme low values in the tail pull the mean downwards.\n",
        "   - Imagine a graph where most data is on the higher end, with a few very low outliers.    "
      ],
      "metadata": {
        "id": "bzlDHJGQAj1g"
      }
    },
    {
      "cell_type": "markdown",
      "source": [
        "20. **Define and explain kurtosis.**\n",
        "-   Kurtosis is a statistical measure used to describe a characteristic of a dataset. It generally takes the form of a bell when normally distributed data is plotted on a graph. This is called the bell curve. The plotted data that are farthest from the mean of the data usually form the tails on each side of the curve.\n",
        "-   Kurtosis is a measure of the combined weight of a distribution’s tails relative to the center of the distribution curve referred to as the mean. It shows a peak when a set of approximately normal data is graphed via a histogram with most of the data residing within three standard plus or minus deviations of the mean. The tails extend farther than the three standard deviations of the normal bell-curved distribution when high kurtosis is present, however.\n",
        "-   Types of kurtosis\n",
        "   - Distributions with medium kurtosis (medium tails) are **mesokurtic** : A mesokurtic distribution is medium-tailed, so outliers are neither highly frequent, nor highly infrequent.\n",
        "   - Distributions with low kurtosis (thin tails) are **platykurtic** : A platykurtic distribution is thin-tailed, meaning that outliers are infrequent. Platykurtic distributions have less kurtosis than a normal distribution.\n",
        "   - Distributions with high kurtosis (fat tails) are **leptokurtic** : A leptokurtic distribution is fat-tailed, meaning that there are a lot of outliers.\n",
        "-   Tails are the tapering ends on either side of a distribution. They represent the probability or frequency of values that are extremely high or low compared to the mean. In other words, tails represent how often outliers occur.   "
      ],
      "metadata": {
        "id": "h6OR4I0HBk9I"
      }
    },
    {
      "cell_type": "markdown",
      "source": [
        "21. **What is the purpose of covariance?**\n",
        "-   Covariance is a statistical measure that indicates the direction of the linear relationship between two variables. It assesses how much two variables change together from their mean values.\n",
        "-   Covariance is calculated by taking the average of the product of the deviations of each variable from their respective means. Covariance helps us understand the direction of the relationship but not how strong it is because the number depends on the units used. It’s an important tool to see how two things are connected.\n",
        "-   It is the relationship between a pair of random variables where a change in one variable causes a change in another variable.\n",
        "-   It can take any value between - infinity to +infinity, where the negative value represents the negative relationship whereas a positive value represents the positive relationship.\n",
        "-   It is used for the linear relationship between variables.\n",
        "-   It gives the direction of relationship between variables"
      ],
      "metadata": {
        "id": "aUNPsBHGDgzf"
      }
    },
    {
      "cell_type": "markdown",
      "source": [
        "22. **What does correlation measure in statistics?**\n",
        "-   In statistics, correlation measures the strength and direction of the linear relationship between two variables. It indicates how closely the values of one variable change in relation to the values of another variable.\n",
        "-   A correlation reflects the strength and/or direction of the relationship between two (or more) variables. The direction of a correlation can be either positive or negative."
      ],
      "metadata": {
        "id": "3DgIj0OoERnk"
      }
    },
    {
      "cell_type": "markdown",
      "source": [
        "23. **What is the difference between covariance and correlation?**\n",
        "-   **Covariance**\n",
        "   > Defination : Covariance refers to the movement of two random variables with one another. Essentially, covariance assesses how the movement of each variable affects the other. This value can range from negative to positive infinity, meaning there are no bounds to this value.\n",
        "\n",
        "   > Interpretation: Positive covariance indicates that the variables tend to move in the same direction (both increase or both decrease), while negative covariance indicates they move in opposite directions.\n",
        "\n",
        "   > Limitations: The magnitude of covariance is not easily interpretable because it is affected by the scales of the variables. For example, covariance can be heavily influenced by changes in the units of measurement (e.g., changing from kilograms to grams).\n",
        "\n",
        "   >Range: Can range from negative infinity to positive infinity (-∞ to +∞).\n",
        "   \n",
        "-   **Correlation**\n",
        "   > Defination : Correlation is the measure of how closely two random variables move in sequence. If one variable moves in one direction, does the other variable follow? If the answer is yes, these variables are correlated.\n",
        "\n",
        "   > Interpretation: Similar to covariance, positive correlation indicates a positive relationship, negative correlation indicates a negative relationship, and a correlation of 0 indicates no linear relationship.\n",
        "\n",
        "   > Advantages: Correlation is easier to interpret than covariance because it is unit-free and always falls within a defined range.\n",
        "\n",
        "   > Range: Always falls between -1 and +1 (-1 to +1).  "
      ],
      "metadata": {
        "id": "0NZiA6v0FBCN"
      }
    },
    {
      "cell_type": "markdown",
      "source": [
        "24. **What are some real-world applications of statistics?**\n",
        "-   Statistics are applied in countless real-world situations to analyze data, identify trends, and make informed decisions. They are used in business for market research, quality control, and financial forecasting. In healthcare, statistics are crucial for clinical trials, disease tracking, and understanding treatment effectiveness. They also play a vital role in environmental science, government, and even in personal finance.\n",
        "-   Business and Finance:\n",
        "   > Market research:\n",
        "Statistics help businesses understand consumer preferences, market trends, and predict future demand.\n",
        "   \n",
        "   > Quality control:\n",
        "Statistical methods are used to ensure products meet quality standards and identify potential defects.\n",
        "   \n",
        "   > Financial forecasting:\n",
        "Statistical models help predict market behavior, assess investment risks, and make informed financial decisions.\n",
        "   \n",
        "   > Business analytics:\n",
        "Companies use statistics to analyze sales data, customer behavior, and operational efficiency to improve business performance.\n",
        "-   Government and Public Policy:\n",
        "   > Census data:\n",
        "Governments use statistical surveys to collect demographic information about their populations, which informs policy decisions.\n",
        "   \n",
        "   > Economic planning:\n",
        "Statistics are used to track economic indicators, analyze trends, and inform economic policies.\n",
        "   \n",
        "   > Public health:\n",
        "Governments use statistics to monitor disease outbreaks, assess environmental risks, and develop public health interventions.\n",
        "-    Personal Finance:\n",
        "   > Budgeting and financial planning:\n",
        "People use statistics to track spending, manage debt, and plan for retirement.\n",
        "   \n",
        "   > Investment decisions:\n",
        "Statistical analysis helps individuals evaluate investment risks and returns.\n",
        "-   Other Areas:\n",
        "   > Education:\n",
        "Statistics are used to analyze student performance, evaluate teaching methods, and improve educational outcomes.\n",
        "   \n",
        "   > Sports analytics:\n",
        "Statistics are used to analyze player performance, predict game outcomes, and optimize team strategies.\n",
        "   \n",
        "   > Social sciences:\n",
        "Social scientists use statistics to study human behavior, social trends, and cultural patterns.\n",
        "   \n",
        "   > Weather forecasting:\n",
        "Meteorologists use statistical models to predict weather patterns and make forecasts.\n",
        "   \n",
        "   > Emergency preparedness:\n",
        "Statistics are used to anticipate and prepare for emergencies like natural disasters, pandemics, or other crises.  \n",
        "-   Healthcare:\n",
        "   > Clinical trials:\n",
        "Statistics are essential for designing and analyzing clinical trials to evaluate the effectiveness of new drugs and treatments.\n",
        "   \n",
        "   > Disease tracking:\n",
        "Epidemiological studies rely on statistics to track the spread of diseases, identify risk factors, and develop public health strategies.\n",
        "   \n",
        "   > Medical research:\n",
        "Statistics are used to analyze research data, draw conclusions about disease mechanisms, and identify potential treatments."
      ],
      "metadata": {
        "id": "S1pgVFdRHKul"
      }
    },
    {
      "cell_type": "markdown",
      "source": [
        "# **Practical**"
      ],
      "metadata": {
        "id": "VqE4uIYxIm8_"
      }
    },
    {
      "cell_type": "markdown",
      "source": [
        "1. **How do you calculate the mean, median, and mode of a dataset?**"
      ],
      "metadata": {
        "id": "wDozjyp_IvZM"
      }
    },
    {
      "cell_type": "code",
      "source": [
        "import numpy as np\n",
        "from scipy import stats\n",
        "\n",
        "data = [4, 5, 1, 2, 2, 3, 5, 4, 5]\n",
        "\n",
        "mean = np.mean(data)\n",
        "median = np.median(data)\n",
        "mode = stats.mode(data, keepdims=False)  # keepdims=False to get scalar instead of array\n",
        "\n",
        "print(\"Mean:\", mean)\n",
        "print(\"Median:\", median)\n",
        "print(\"Mode:\", mode.mode)\n"
      ],
      "metadata": {
        "colab": {
          "base_uri": "https://localhost:8080/"
        },
        "id": "Cn88PNt1I9qS",
        "outputId": "71ef2276-564b-4d10-b7c1-aad9e93f056a"
      },
      "execution_count": 1,
      "outputs": [
        {
          "output_type": "stream",
          "name": "stdout",
          "text": [
            "Mean: 3.4444444444444446\n",
            "Median: 4.0\n",
            "Mode: 5\n"
          ]
        }
      ]
    },
    {
      "cell_type": "markdown",
      "source": [
        "2. **Write a Python program to compute the variance and standard deviation of a dataset.**"
      ],
      "metadata": {
        "id": "IqXJiCHqJC7z"
      }
    },
    {
      "cell_type": "code",
      "source": [
        "import numpy as np\n",
        "\n",
        "# Define your dataset (example: exam scores)\n",
        "data = np.array([85, 90, 78, 92, 88, 76, 95, 89, 84, 91])\n",
        "\n",
        "# Calculate Population Variance and Standard Deviation\n",
        "population_variance = np.var(data)\n",
        "population_std_dev = np.std(data)\n",
        "\n",
        "# Calculate Sample Variance and Standard Deviation (ddof=1)\n",
        "sample_variance = np.var(data, ddof=1)\n",
        "sample_std_dev = np.std(data, ddof=1)\n",
        "\n",
        "# Output results\n",
        "print(\"Data:\", data)\n",
        "print(\"Population Variance:\", population_variance)\n",
        "print(\"Population Standard Deviation:\", population_std_dev)\n",
        "print(\"Sample Variance:\", sample_variance)\n",
        "print(\"Sample Standard Deviation:\", sample_std_dev)\n"
      ],
      "metadata": {
        "colab": {
          "base_uri": "https://localhost:8080/"
        },
        "id": "3R5rKSjhJHqF",
        "outputId": "519080e5-b698-4986-b65d-e61b2cd99d3e"
      },
      "execution_count": 2,
      "outputs": [
        {
          "output_type": "stream",
          "name": "stdout",
          "text": [
            "Data: [85 90 78 92 88 76 95 89 84 91]\n",
            "Population Variance: 33.36\n",
            "Population Standard Deviation: 5.775811631277461\n",
            "Sample Variance: 37.06666666666667\n",
            "Sample Standard Deviation: 6.0882400303098\n"
          ]
        }
      ]
    },
    {
      "cell_type": "markdown",
      "source": [
        "3. **Create a dataset and classify it into nominal, ordinal, interval, and ratio types**."
      ],
      "metadata": {
        "id": "wyD470fHJfa4"
      }
    },
    {
      "cell_type": "code",
      "source": [
        "import pandas as pd\n",
        "from pandas.api.types import CategoricalDtype\n",
        "\n",
        "# Create dataset as a dictionary\n",
        "data = {\n",
        "    \"Student_ID\": [101, 102, 103, 104],\n",
        "    \"Name\": [\"Alice\", \"Bob\", \"Charlie\", \"Diana\"],\n",
        "    \"Gender\": [\"Female\", \"Male\", \"Male\", \"Female\"],\n",
        "    \"Grade_Level\": [\"Freshman\", \"Sophomore\", \"Junior\", \"Senior\"],\n",
        "    \"Satisfaction_Score\": [4, 2, 5, 3],  # ordinal scale: 1–5\n",
        "    \"Exam_Score\": [78, 85, 92, 88]       # ratio scale\n",
        "}\n",
        "\n",
        "# Create a pandas DataFrame\n",
        "df = pd.DataFrame(data)\n",
        "\n",
        "# Define ordinal scale for Grade_Level\n",
        "grade_order = CategoricalDtype(\n",
        "    categories=[\"Freshman\", \"Sophomore\", \"Junior\", \"Senior\"],\n",
        "    ordered=True\n",
        ")\n",
        "df[\"Grade_Level\"] = df[\"Grade_Level\"].astype(grade_order)\n",
        "\n",
        "# Display the DataFrame\n",
        "print(\"Dataset:\\n\")\n",
        "print(df)\n",
        "\n",
        "# Display variable types and scale classification\n",
        "print(\"\\nClassification by Measurement Scale:\")\n",
        "print(\"- Student_ID: Nominal (just an identifier)\")\n",
        "print(\"- Name: Nominal\")\n",
        "print(\"- Gender: Nominal\")\n",
        "print(\"- Grade_Level: Ordinal (ordered categories)\")\n",
        "print(\"- Satisfaction_Score: Ordinal (Likert scale 1–5)\")\n",
        "print(\"- Exam_Score: Ratio (numeric with a true zero)\")\n"
      ],
      "metadata": {
        "colab": {
          "base_uri": "https://localhost:8080/"
        },
        "id": "MrbYW373JjTO",
        "outputId": "a884db71-8acc-4fe0-aa8a-d012544d70fc"
      },
      "execution_count": 3,
      "outputs": [
        {
          "output_type": "stream",
          "name": "stdout",
          "text": [
            "Dataset:\n",
            "\n",
            "   Student_ID     Name  Gender Grade_Level  Satisfaction_Score  Exam_Score\n",
            "0         101    Alice  Female    Freshman                   4          78\n",
            "1         102      Bob    Male   Sophomore                   2          85\n",
            "2         103  Charlie    Male      Junior                   5          92\n",
            "3         104    Diana  Female      Senior                   3          88\n",
            "\n",
            "Classification by Measurement Scale:\n",
            "- Student_ID: Nominal (just an identifier)\n",
            "- Name: Nominal\n",
            "- Gender: Nominal\n",
            "- Grade_Level: Ordinal (ordered categories)\n",
            "- Satisfaction_Score: Ordinal (Likert scale 1–5)\n",
            "- Exam_Score: Ratio (numeric with a true zero)\n"
          ]
        }
      ]
    },
    {
      "cell_type": "markdown",
      "source": [
        "4.  **Implement sampling techniques like random sampling and stratified sampling**."
      ],
      "metadata": {
        "id": "TAA7cIFaKA1R"
      }
    },
    {
      "cell_type": "code",
      "source": [
        "import pandas as pd\n",
        "import numpy as np\n",
        "\n",
        "# Create a sample dataset of 20 students\n",
        "np.random.seed(42)  # for reproducibility\n",
        "data = {\n",
        "    \"Student_ID\": range(1, 21),\n",
        "    \"Gender\": np.random.choice([\"Male\", \"Female\"], size=20),\n",
        "    \"Grade_Level\": np.random.choice([\"Freshman\", \"Sophomore\", \"Junior\", \"Senior\"], size=20),\n",
        "    \"Score\": np.random.randint(60, 100, size=20)\n",
        "}\n",
        "\n",
        "df = pd.DataFrame(data)\n",
        "print(\"Full Dataset:\\n\", df)\n",
        "\n",
        "\n",
        "# Simple random sample of 5 students\n",
        "random_sample = df.sample(n=5, random_state=1)\n",
        "print(\"\\nSimple Random Sample:\\n\", random_sample)\n",
        "\n",
        "\n",
        "# Stratified sampling: Take 1 student from each grade level\n",
        "stratified_sample = (\n",
        "    df.groupby(\"Grade_Level\", group_keys=False)\n",
        "    .apply(lambda x: x.sample(n=1, random_state=1))\n",
        ")\n",
        "\n",
        "print(\"\\nStratified Sample by Grade Level:\\n\", stratified_sample)\n"
      ],
      "metadata": {
        "colab": {
          "base_uri": "https://localhost:8080/"
        },
        "id": "eJMRtivhKEj_",
        "outputId": "cf05905e-27e9-4dd7-d0ee-71e4ae204c62"
      },
      "execution_count": 4,
      "outputs": [
        {
          "output_type": "stream",
          "name": "stdout",
          "text": [
            "Full Dataset:\n",
            "     Student_ID  Gender Grade_Level  Score\n",
            "0            1    Male   Sophomore     87\n",
            "1            2  Female    Freshman     75\n",
            "2            3    Male   Sophomore     74\n",
            "3            4    Male      Senior     62\n",
            "4            5    Male      Senior     96\n",
            "5            6  Female   Sophomore     66\n",
            "6            7    Male   Sophomore     80\n",
            "7            8    Male   Sophomore     68\n",
            "8            9    Male      Senior     98\n",
            "9           10  Female      Senior     77\n",
            "10          11    Male    Freshman     63\n",
            "11          12    Male    Freshman     84\n",
            "12          13    Male      Senior     73\n",
            "13          14    Male   Sophomore     68\n",
            "14          15  Female   Sophomore     85\n",
            "15          16    Male    Freshman     61\n",
            "16          17  Female      Senior     79\n",
            "17          18  Female    Freshman     87\n",
            "18          19  Female    Freshman     66\n",
            "19          20    Male      Junior     67\n",
            "\n",
            "Simple Random Sample:\n",
            "     Student_ID  Gender Grade_Level  Score\n",
            "3            4    Male      Senior     62\n",
            "16          17  Female      Senior     79\n",
            "6            7    Male   Sophomore     80\n",
            "10          11    Male    Freshman     63\n",
            "2            3    Male   Sophomore     74\n",
            "\n",
            "Stratified Sample by Grade Level:\n",
            "     Student_ID  Gender Grade_Level  Score\n",
            "11          12    Male    Freshman     84\n",
            "19          20    Male      Junior     67\n",
            "8            9    Male      Senior     98\n",
            "14          15  Female   Sophomore     85\n"
          ]
        },
        {
          "output_type": "stream",
          "name": "stderr",
          "text": [
            "/tmp/ipython-input-4-1872068214.py:25: DeprecationWarning: DataFrameGroupBy.apply operated on the grouping columns. This behavior is deprecated, and in a future version of pandas the grouping columns will be excluded from the operation. Either pass `include_groups=False` to exclude the groupings or explicitly select the grouping columns after groupby to silence this warning.\n",
            "  .apply(lambda x: x.sample(n=1, random_state=1))\n"
          ]
        }
      ]
    },
    {
      "cell_type": "markdown",
      "source": [
        "5. **Write a Python function to calculate the range of a dataset.**"
      ],
      "metadata": {
        "id": "9db-1OyvKjbF"
      }
    },
    {
      "cell_type": "code",
      "source": [
        "def calculate_range(data):\n",
        "    \"\"\"\n",
        "    Calculate the range of a dataset.\n",
        "\n",
        "    Parameters:\n",
        "    data (list or array-like): The dataset (numerical values).\n",
        "\n",
        "    Returns:\n",
        "    float: The range of the dataset.\n",
        "    \"\"\"\n",
        "    if not data:\n",
        "        return None  # Handle empty dataset\n",
        "    return max(data) - min(data)\n",
        "\n",
        "# Example usage:\n",
        "dataset = [10, 15, 22, 8, 17, 30]\n",
        "range_value = calculate_range(dataset)\n",
        "\n",
        "print(\"Dataset:\", dataset)\n",
        "print(\"Range:\", range_value)\n"
      ],
      "metadata": {
        "colab": {
          "base_uri": "https://localhost:8080/"
        },
        "id": "H7VG4LUKKmkC",
        "outputId": "4fc260c4-b4b1-4012-e0dd-aaf93c00703a"
      },
      "execution_count": 5,
      "outputs": [
        {
          "output_type": "stream",
          "name": "stdout",
          "text": [
            "Dataset: [10, 15, 22, 8, 17, 30]\n",
            "Range: 22\n"
          ]
        }
      ]
    },
    {
      "cell_type": "markdown",
      "source": [
        "6. **Create a dataset and plot its histogram to visualize skewness.**"
      ],
      "metadata": {
        "id": "pV3zMzF5Kple"
      }
    },
    {
      "cell_type": "code",
      "source": [
        "import numpy as np\n",
        "import matplotlib.pyplot as plt\n",
        "import seaborn as sns\n",
        "\n",
        "# Create a right-skewed dataset using exponential distribution\n",
        "np.random.seed(42)\n",
        "data = np.random.exponential(scale=2, size=1000)\n",
        "\n",
        "# Plot histogram with KDE (Kernel Density Estimate) to visualize skewness\n",
        "plt.figure(figsize=(8, 5))\n",
        "sns.histplot(data, bins=30, kde=True, color='skyblue')\n",
        "\n",
        "plt.title('Histogram with Right Skewness (Exponential Distribution)')\n",
        "plt.xlabel('Value')\n",
        "plt.ylabel('Frequency')\n",
        "\n",
        "plt.show()\n"
      ],
      "metadata": {
        "colab": {
          "base_uri": "https://localhost:8080/",
          "height": 487
        },
        "id": "9MkVVi9DKs2h",
        "outputId": "0975de15-98e7-4449-e265-8a6f329ad440"
      },
      "execution_count": 6,
      "outputs": [
        {
          "output_type": "display_data",
          "data": {
            "text/plain": [
              "<Figure size 800x500 with 1 Axes>"
            ],
            "image/png": "[encoded data removed]"
          },
          "metadata": {}
        }
      ]
    },
    {
      "cell_type": "markdown",
      "source": [
        "7. **Calculate skewness and kurtosis of a dataset using Python libraries.**"
      ],
      "metadata": {
        "id": "OPYy86iyKynp"
      }
    },
    {
      "cell_type": "code",
      "source": [
        "import pandas as pd\n",
        "\n",
        "data = pd.Series(np.random.normal(0, 1, 1000))\n",
        "\n",
        "skewness = data.skew()\n",
        "kurt = data.kurt()\n",
        "\n",
        "print(f\"Skewness: {skewness:.4f}\")\n",
        "print(f\"Kurtosis: {kurt:.4f}\")\n"
      ],
      "metadata": {
        "colab": {
          "base_uri": "https://localhost:8080/"
        },
        "id": "OeKR4-CjK2ID",
        "outputId": "5663dd8d-a055-4c33-a49b-861e1d18a9fa"
      },
      "execution_count": 7,
      "outputs": [
        {
          "output_type": "stream",
          "name": "stdout",
          "text": [
            "Skewness: -0.0367\n",
            "Kurtosis: -0.0212\n"
          ]
        }
      ]
    },
    {
      "cell_type": "markdown",
      "source": [
        "8. **Generate a dataset and demonstrate positive and negative skewness**.\n"
      ],
      "metadata": {
        "id": "Z2JEQuefLIZt"
      }
    },
    {
      "cell_type": "code",
      "source": [
        "import numpy as np\n",
        "import matplotlib.pyplot as plt\n",
        "import seaborn as sns\n",
        "\n",
        "np.random.seed(42)\n",
        "\n",
        "# Generate positively skewed data (right-skewed) using exponential distribution\n",
        "positive_skew = np.random.exponential(scale=2, size=1000)\n",
        "\n",
        "# Generate negatively skewed data (left-skewed) by negating exponential data\n",
        "negative_skew = -np.random.exponential(scale=2, size=1000)\n",
        "\n",
        "# Plotting\n",
        "fig, axes = plt.subplots(1, 2, figsize=(14, 5))\n",
        "\n",
        "sns.histplot(positive_skew, bins=30, kde=True, color='orange', ax=axes[0])\n",
        "axes[0].set_title('Positive Skewness (Right Skewed)')\n",
        "axes[0].set_xlabel('Value')\n",
        "axes[0].set_ylabel('Frequency')\n",
        "\n",
        "sns.histplot(negative_skew, bins=30, kde=True, color='purple', ax=axes[1])\n",
        "axes[1].set_title('Negative Skewness (Left Skewed)')\n",
        "axes[1].set_xlabel('Value')\n",
        "axes[1].set_ylabel('Frequency')\n",
        "\n",
        "plt.tight_layout()\n",
        "plt.show()\n"
      ],
      "metadata": {
        "colab": {
          "base_uri": "https://localhost:8080/",
          "height": 507
        },
        "id": "ITfulLBTLM69",
        "outputId": "3b9bbe84-4063-41e4-83f4-bbb13a43c629"
      },
      "execution_count": 8,
      "outputs": [
        {
          "output_type": "display_data",
          "data": {
            "text/plain": [
              "<Figure size 1400x500 with 2 Axes>"
            ],
            "image/png": "[encoded data removed]"
          },
          "metadata": {}
        }
      ]
    },
    {
      "cell_type": "markdown",
      "source": [
        "9. **Write a Python script to calculate covariance between two datasets.**"
      ],
      "metadata": {
        "id": "Rsd4TTXNLVwa"
      }
    },
    {
      "cell_type": "code",
      "source": [
        "import numpy as np\n",
        "\n",
        "x = np.array([2, 4, 6, 8, 10])\n",
        "y = np.array([1, 3, 5, 7, 9])\n",
        "\n",
        "cov_matrix = np.cov(x, y)  # returns covariance matrix\n",
        "cov_xy = cov_matrix[0, 1]  # covariance between x and y\n",
        "\n",
        "print(\"Covariance (NumPy):\", cov_xy)\n"
      ],
      "metadata": {
        "colab": {
          "base_uri": "https://localhost:8080/"
        },
        "id": "wy-R03gNLbF9",
        "outputId": "eae82cb8-464f-4e7c-aad1-6b603f7c3d05"
      },
      "execution_count": 9,
      "outputs": [
        {
          "output_type": "stream",
          "name": "stdout",
          "text": [
            "Covariance (NumPy): 10.0\n"
          ]
        }
      ]
    },
    {
      "cell_type": "markdown",
      "source": [
        "10. **Write a Python script to calculate the correlation coefficient between two datasets.**"
      ],
      "metadata": {
        "id": "zsAMvdoaLlTV"
      }
    },
    {
      "cell_type": "code",
      "source": [
        "import numpy as np\n",
        "\n",
        "x = np.array([2, 4, 6, 8, 10])\n",
        "y = np.array([1, 3, 5, 7, 9])\n",
        "\n",
        "corr_matrix = np.corrcoef(x, y)\n",
        "corr_xy = corr_matrix[0, 1]\n",
        "\n",
        "print(\"Correlation Coefficient (NumPy):\", corr_xy)\n"
      ],
      "metadata": {
        "colab": {
          "base_uri": "https://localhost:8080/"
        },
        "id": "9qkNx41ULpPH",
        "outputId": "1fcbd194-a184-4f91-a078-0fb053b7a2ca"
      },
      "execution_count": 10,
      "outputs": [
        {
          "output_type": "stream",
          "name": "stdout",
          "text": [
            "Correlation Coefficient (NumPy): 0.9999999999999999\n"
          ]
        }
      ]
    },
    {
      "cell_type": "markdown",
      "source": [
        "11. **Create a scatter plot to visualize the relationship between two variables.**"
      ],
      "metadata": {
        "id": "8SQEO05aLx1C"
      }
    },
    {
      "cell_type": "code",
      "source": [
        "import matplotlib.pyplot as plt\n",
        "import seaborn as sns\n",
        "import numpy as np\n",
        "\n",
        "# Sample data\n",
        "np.random.seed(0)\n",
        "x = np.random.rand(50) * 100  # Variable X (e.g., age)\n",
        "y = 0.5 * x + np.random.normal(0, 10, 50)  # Variable Y (e.g., test score) with some noise\n",
        "\n",
        "# Create scatter plot\n",
        "plt.figure(figsize=(8, 6))\n",
        "sns.scatterplot(x=x, y=y, color='blue', s=70)\n",
        "\n",
        "plt.title('Scatter Plot of X vs Y')\n",
        "plt.xlabel('X (e.g., Age)')\n",
        "plt.ylabel('Y (e.g., Test Score)')\n",
        "plt.grid(True)\n",
        "plt.show()\n"
      ],
      "metadata": {
        "colab": {
          "base_uri": "https://localhost:8080/",
          "height": 564
        },
        "id": "1VvbUZSZL1D2",
        "outputId": "a00cae39-a13b-431f-a8b5-823635c01f97"
      },
      "execution_count": 11,
      "outputs": [
        {
          "output_type": "display_data",
          "data": {
            "text/plain": [
              "<Figure size 800x600 with 1 Axes>"
            ],
            "image/png": "[encoded data removed]"
          },
          "metadata": {}
        }
      ]
    },
    {
      "cell_type": "markdown",
      "source": [
        "12.  **Implement and compare simple random sampling and systematic sampling.**"
      ],
      "metadata": {
        "id": "UpSiHxeEL8W2"
      }
    },
    {
      "cell_type": "code",
      "source": [
        "import pandas as pd\n",
        "import numpy as np\n",
        "\n",
        "# Create a dataset with 30 entries\n",
        "np.random.seed(42)\n",
        "data = pd.DataFrame({\n",
        "    'ID': range(1, 31),\n",
        "    'Value': np.random.randint(10, 100, size=30)\n",
        "})\n",
        "\n",
        "print(\"Full Dataset:\")\n",
        "print(data)\n",
        "\n",
        "\n",
        "def simple_random_sampling(df, n):\n",
        "    return df.sample(n=n, random_state=42)\n",
        "\n",
        "srs_sample = simple_random_sampling(data, 5)\n",
        "print(\"\\nSimple Random Sample:\")\n",
        "print(srs_sample)\n",
        "\n",
        "\n",
        "def systematic_sampling(df, n):\n",
        "    N = len(df)\n",
        "    k = N // n\n",
        "    start = np.random.randint(0, k)\n",
        "    indices = np.arange(start, N, k)\n",
        "    return df.iloc[indices]\n",
        "\n",
        "sys_sample = systematic_sampling(data, 5)\n",
        "print(\"\\nSystematic Sample:\")\n",
        "print(sys_sample)\n",
        "\n",
        "\n",
        "print(\"\\nComparison:\")\n",
        "print(\"Simple Random Sample IDs:\", srs_sample['ID'].values)\n",
        "print(\"Systematic Sample IDs:\", sys_sample['ID'].values)\n"
      ],
      "metadata": {
        "colab": {
          "base_uri": "https://localhost:8080/"
        },
        "id": "8Oo2IWHJMAG8",
        "outputId": "6fdc89b6-229b-4a07-d1ff-f738ff6b18da"
      },
      "execution_count": 12,
      "outputs": [
        {
          "output_type": "stream",
          "name": "stdout",
          "text": [
            "Full Dataset:\n",
            "    ID  Value\n",
            "0    1     61\n",
            "1    2     24\n",
            "2    3     81\n",
            "3    4     70\n",
            "4    5     30\n",
            "5    6     92\n",
            "6    7     96\n",
            "7    8     84\n",
            "8    9     84\n",
            "9   10     97\n",
            "10  11     33\n",
            "11  12     12\n",
            "12  13     31\n",
            "13  14     62\n",
            "14  15     11\n",
            "15  16     97\n",
            "16  17     39\n",
            "17  18     47\n",
            "18  19     11\n",
            "19  20     73\n",
            "20  21     69\n",
            "21  22     30\n",
            "22  23     42\n",
            "23  24     85\n",
            "24  25     67\n",
            "25  26     31\n",
            "26  27     98\n",
            "27  28     58\n",
            "28  29     68\n",
            "29  30     51\n",
            "\n",
            "Simple Random Sample:\n",
            "    ID  Value\n",
            "27  28     58\n",
            "15  16     97\n",
            "23  24     85\n",
            "17  18     47\n",
            "8    9     84\n",
            "\n",
            "Systematic Sample:\n",
            "    ID  Value\n",
            "3    4     70\n",
            "9   10     97\n",
            "15  16     97\n",
            "21  22     30\n",
            "27  28     58\n",
            "\n",
            "Comparison:\n",
            "Simple Random Sample IDs: [28 16 24 18  9]\n",
            "Systematic Sample IDs: [ 4 10 16 22 28]\n"
          ]
        }
      ]
    },
    {
      "cell_type": "markdown",
      "source": [
        "13. **Calculate the mean, median, and mode of grouped data.**"
      ],
      "metadata": {
        "id": "r6pHo0g4MTmZ"
      }
    },
    {
      "cell_type": "code",
      "source": [
        "import numpy as np\n",
        "import pandas as pd\n",
        "\n",
        "# Data\n",
        "class_intervals = [(10, 20), (20, 30), (30, 40), (40, 50), (50, 60)]\n",
        "frequencies = [5, 8, 12, 7, 3]\n",
        "\n",
        "# Midpoints\n",
        "midpoints = [(low + high) / 2 for low, high in class_intervals]\n",
        "\n",
        "# Total frequency\n",
        "N = sum(frequencies)\n",
        "\n",
        "# Mean\n",
        "mean = sum(f * x for f, x in zip(frequencies, midpoints)) / N\n",
        "\n",
        "# Cumulative frequency\n",
        "cum_freq = np.cumsum(frequencies)\n",
        "\n",
        "# Median calculation\n",
        "median_class_index = np.where(cum_freq >= N/2)[0][0]\n",
        "L = class_intervals[median_class_index][0]  # lower class boundary of median class\n",
        "F = cum_freq[median_class_index - 1] if median_class_index > 0 else 0\n",
        "f_m = frequencies[median_class_index]\n",
        "h = class_intervals[median_class_index][1] - class_intervals[median_class_index][0]\n",
        "\n",
        "median = L + ((N/2 - F) / f_m) * h\n",
        "\n",
        "# Mode calculation\n",
        "modal_class_index = frequencies.index(max(frequencies))\n",
        "L_mode = class_intervals[modal_class_index][0]\n",
        "f1 = frequencies[modal_class_index]\n",
        "f0 = frequencies[modal_class_index - 1] if modal_class_index > 0 else 0\n",
        "f2 = frequencies[modal_class_index + 1] if modal_class_index < len(frequencies) - 1 else 0\n",
        "\n",
        "mode = L_mode + ((f1 - f0) / (2*f1 - f0 - f2)) * h\n",
        "\n",
        "# Results\n",
        "print(f\"Mean = {mean:.2f}\")\n",
        "print(f\"Median = {median:.2f}\")\n",
        "print(f\"Mode = {mode:.2f}\")\n"
      ],
      "metadata": {
        "colab": {
          "base_uri": "https://localhost:8080/"
        },
        "id": "jG24vM67MaMr",
        "outputId": "90e4040b-0078-44f5-86a7-792eea53c631"
      },
      "execution_count": 13,
      "outputs": [
        {
          "output_type": "stream",
          "name": "stdout",
          "text": [
            "Mean = 33.57\n",
            "Median = 33.75\n",
            "Mode = 34.44\n"
          ]
        }
      ]
    },
    {
      "cell_type": "markdown",
      "source": [
        "14.  **Simulate data using Python and calculate its central tendency and dispersion.**"
      ],
      "metadata": {
        "id": "p1MAlnfcMwBE"
      }
    },
    {
      "cell_type": "code",
      "source": [
        "import numpy as np\n",
        "import scipy.stats as stats\n",
        "\n",
        "# Step 1: Simulate data (e.g., 1000 values from a normal distribution)\n",
        "np.random.seed(42)\n",
        "data = np.random.normal(loc=50, scale=10, size=1000)  # mean=50, std=10\n",
        "\n",
        "# Step 2: Calculate central tendency\n",
        "mean = np.mean(data)\n",
        "median = np.median(data)\n",
        "mode = stats.mode(data, keepdims=True).mode[0]\n",
        "\n",
        "# Step 3: Calculate dispersion\n",
        "variance = np.var(data, ddof=1)  # sample variance (ddof=1)\n",
        "std_dev = np.std(data, ddof=1)   # sample standard deviation\n",
        "data_range = np.max(data) - np.min(data)\n",
        "\n",
        "# Step 4: Print results\n",
        "print(f\"Mean: {mean:.2f}\")\n",
        "print(f\"Median: {median:.2f}\")\n",
        "print(f\"Mode: {mode:.2f}\")\n",
        "print(f\"Variance: {variance:.2f}\")\n",
        "print(f\"Standard Deviation: {std_dev:.2f}\")\n",
        "print(f\"Range: {data_range:.2f}\")\n"
      ],
      "metadata": {
        "colab": {
          "base_uri": "https://localhost:8080/"
        },
        "id": "dJsS2NMsM0Ox",
        "outputId": "d8b768a4-1761-46ef-bacd-67646958f0d4"
      },
      "execution_count": 14,
      "outputs": [
        {
          "output_type": "stream",
          "name": "stdout",
          "text": [
            "Mean: 50.19\n",
            "Median: 50.25\n",
            "Mode: 17.59\n",
            "Variance: 95.89\n",
            "Standard Deviation: 9.79\n",
            "Range: 70.94\n"
          ]
        }
      ]
    },
    {
      "cell_type": "markdown",
      "source": [
        "15. **Use NumPy or pandas to summarize a dataset’s descriptive statistics.**"
      ],
      "metadata": {
        "id": "qt0mX79ANC-e"
      }
    },
    {
      "cell_type": "code",
      "source": [
        "import pandas as pd\n",
        "import numpy as np\n",
        "\n",
        "# Simulate a dataset with 3 columns\n",
        "np.random.seed(42)\n",
        "data = pd.DataFrame({\n",
        "    'Age': np.random.randint(18, 60, 100),\n",
        "    'Income': np.random.normal(50000, 15000, 100),\n",
        "    'Score': np.random.uniform(0, 100, 100)\n",
        "})\n",
        "\n",
        "# Get summary statistics\n",
        "summary = data.describe()\n",
        "print(summary)\n"
      ],
      "metadata": {
        "colab": {
          "base_uri": "https://localhost:8080/"
        },
        "id": "05QeMCCONLXf",
        "outputId": "e6ae901b-1bbb-4b33-aaf8-fe935ceb6daa"
      },
      "execution_count": 15,
      "outputs": [
        {
          "output_type": "stream",
          "name": "stdout",
          "text": [
            "              Age        Income       Score\n",
            "count  100.000000    100.000000  100.000000\n",
            "mean    37.910000  50125.408702   50.782054\n",
            "std     12.219454  14684.490603   29.075405\n",
            "min     18.000000  12518.612875    0.518486\n",
            "25%     26.750000  40689.408589   27.938809\n",
            "50%     38.000000  49719.768392   48.617795\n",
            "75%     46.250000  60624.020802   75.292758\n",
            "max     59.000000  82380.927850   99.455051\n"
          ]
        }
      ]
    },
    {
      "cell_type": "markdown",
      "source": [
        "16. **Plot a boxplot to understand the spread and identify outliers**.\n"
      ],
      "metadata": {
        "id": "XR6oQxejNcWY"
      }
    },
    {
      "cell_type": "code",
      "source": [
        "import numpy as np\n",
        "import seaborn as sns\n",
        "import matplotlib.pyplot as plt\n",
        "\n",
        "# Simulate data with some outliers\n",
        "np.random.seed(42)\n",
        "data = np.concatenate([np.random.normal(50, 10, 100), np.array([100, 110, 120])])\n",
        "\n",
        "# Plot boxplot\n",
        "plt.figure(figsize=(8, 6))\n",
        "sns.boxplot(x=data, color='skyblue')\n",
        "\n",
        "plt.title('Boxplot Showing Spread and Outliers')\n",
        "plt.xlabel('Values')\n",
        "plt.show()\n"
      ],
      "metadata": {
        "colab": {
          "base_uri": "https://localhost:8080/",
          "height": 564
        },
        "id": "GduOHQNiNkBV",
        "outputId": "60c74642-15b8-40bf-8c90-3a93e672ecb2"
      },
      "execution_count": 16,
      "outputs": [
        {
          "output_type": "display_data",
          "data": {
            "text/plain": [
              "<Figure size 800x600 with 1 Axes>"
            ],
            "image/png": "[encoded data removed]"
          },
          "metadata": {}
        }
      ]
    },
    {
      "cell_type": "markdown",
      "source": [
        "17. **Calculate the interquartile range (IQR) of a dataset.**"
      ],
      "metadata": {
        "id": "IcnEB6ppNunR"
      }
    },
    {
      "cell_type": "code",
      "source": [
        "import numpy as np\n",
        "\n",
        "# Sample data\n",
        "data = np.array([10, 15, 14, 18, 20, 22, 21, 23, 24, 30, 35])\n",
        "\n",
        "Q1 = np.percentile(data, 25)\n",
        "Q3 = np.percentile(data, 75)\n",
        "IQR = Q3 - Q1\n",
        "\n",
        "print(f\"Q1 (25th percentile): {Q1}\")\n",
        "print(f\"Q3 (75th percentile): {Q3}\")\n",
        "print(f\"Interquartile Range (IQR): {IQR}\")\n"
      ],
      "metadata": {
        "colab": {
          "base_uri": "https://localhost:8080/"
        },
        "id": "NuNtqe2lNzhv",
        "outputId": "4a64887a-d849-4f0a-e65a-a139ff71695e"
      },
      "execution_count": 19,
      "outputs": [
        {
          "output_type": "stream",
          "name": "stdout",
          "text": [
            "Q1 (25th percentile): 16.5\n",
            "Q3 (75th percentile): 23.5\n",
            "Interquartile Range (IQR): 7.0\n"
          ]
        }
      ]
    },
    {
      "cell_type": "markdown",
      "source": [
        "18. **Implement Z-score normalization and explain its significance.**\n",
        "-   Significance of Z-score Normalization\n",
        "   > Standardizes Different Scales:\n",
        "It transforms features to a common scale with a mean of 0 and standard deviation of 1. This is essential when your dataset has features measured in different units or scales (e.g., height in cm, weight in kg).\n",
        "\n",
        "   > Improves Algorithm Performance:\n",
        "Many machine learning algorithms (like k-Nearest Neighbors, Support Vector Machines, PCA) assume or work better when data is standardized because:\n",
        "   - They rely on distances or dot products, which are sensitive to scale.\n",
        "   - Features with larger scales could dominate the results if not normalized.\n",
        "\n",
        "   > Handles Outliers Better than Min-Max Scaling:\n",
        "Unlike Min-Max normalization, Z-score normalization centers the data around the mean and scales by variability, reducing the impact of extreme values.\n",
        "\n",
        "   > Facilitates Comparison Across Different Datasets:\n",
        "Since the data is expressed in terms of standard deviations from the mean, it becomes easier to compare different datasets or variables.\n",
        "\n",
        "   > Essential for Statistical Analysis:\n",
        "Z-scores provide a way to understand how unusual or typical a data point is relative to the distribution. This is key for detecting outliers or performing hypothesis tests."
      ],
      "metadata": {
        "id": "NKeaGxLbOKoY"
      }
    },
    {
      "cell_type": "code",
      "source": [
        "import numpy as np\n",
        "\n",
        "# Sample data\n",
        "data = np.array([10, 20, 30, 40, 50])\n",
        "\n",
        "# Calculate mean and std deviation\n",
        "mean = np.mean(data)\n",
        "std = np.std(data, ddof=1)  # sample std deviation\n",
        "\n",
        "# Z-score normalization\n",
        "z_scores = (data - mean) / std\n",
        "\n",
        "print(\"Original data:\", data)\n",
        "print(\"Mean:\", mean)\n",
        "print(\"Standard Deviation:\", std)\n",
        "print(\"Z-scores:\", z_scores)\n"
      ],
      "metadata": {
        "colab": {
          "base_uri": "https://localhost:8080/"
        },
        "id": "ToTU1SUBOQwY",
        "outputId": "f5781bdc-6134-49de-d65f-c71d400d1f24"
      },
      "execution_count": 20,
      "outputs": [
        {
          "output_type": "stream",
          "name": "stdout",
          "text": [
            "Original data: [10 20 30 40 50]\n",
            "Mean: 30.0\n",
            "Standard Deviation: 15.811388300841896\n",
            "Z-scores: [-1.26491106 -0.63245553  0.          0.63245553  1.26491106]\n"
          ]
        }
      ]
    },
    {
      "cell_type": "markdown",
      "source": [
        "19. **Compare two datasets using their standard deviations.**"
      ],
      "metadata": {
        "id": "kAtYI4bBO693"
      }
    },
    {
      "cell_type": "code",
      "source": [
        "import numpy as np\n",
        "\n",
        "# Two sample datasets\n",
        "data1 = np.array([10, 12, 15, 14, 13, 15, 16])\n",
        "data2 = np.array([8, 25, 10, 30, 5, 22, 18])\n",
        "\n",
        "# Calculate standard deviations (sample std dev)\n",
        "std1 = np.std(data1, ddof=1)\n",
        "std2 = np.std(data2, ddof=1)\n",
        "\n",
        "print(f\"Dataset 1 standard deviation: {std1:.2f}\")\n",
        "print(f\"Dataset 2 standard deviation: {std2:.2f}\")\n",
        "\n",
        "# Interpretation\n",
        "if std1 > std2:\n",
        "    print(\"Dataset 1 has greater variability.\")\n",
        "elif std1 < std2:\n",
        "    print(\"Dataset 2 has greater variability.\")\n",
        "else:\n",
        "    print(\"Both datasets have the same variability.\")\n"
      ],
      "metadata": {
        "colab": {
          "base_uri": "https://localhost:8080/"
        },
        "id": "jgpXA9ShO_vv",
        "outputId": "a99f7270-f0ce-4a3f-ea49-4dd6e60bc9f4"
      },
      "execution_count": 21,
      "outputs": [
        {
          "output_type": "stream",
          "name": "stdout",
          "text": [
            "Dataset 1 standard deviation: 2.07\n",
            "Dataset 2 standard deviation: 9.42\n",
            "Dataset 2 has greater variability.\n"
          ]
        }
      ]
    },
    {
      "cell_type": "markdown",
      "source": [
        "20. **Write a Python program to visualize covariance using a heatmap.**"
      ],
      "metadata": {
        "id": "oVVMkYF7PK8r"
      }
    },
    {
      "cell_type": "code",
      "source": [
        "import numpy as np\n",
        "import pandas as pd\n",
        "import seaborn as sns\n",
        "import matplotlib.pyplot as plt\n",
        "\n",
        "# Simulate a dataset with 4 variables\n",
        "np.random.seed(0)\n",
        "data = pd.DataFrame({\n",
        "    'X': np.random.normal(0, 1, 100),\n",
        "    'Y': np.random.normal(5, 2, 100),\n",
        "    'Z': np.random.normal(-3, 5, 100),\n",
        "    'W': np.random.normal(10, 3, 100)\n",
        "})\n",
        "\n",
        "# Calculate covariance matrix\n",
        "cov_matrix = data.cov()\n",
        "\n",
        "# Plot heatmap\n",
        "plt.figure(figsize=(8, 6))\n",
        "sns.heatmap(cov_matrix, annot=True, fmt=\".2f\", cmap='coolwarm', center=0)\n",
        "plt.title('Covariance Matrix Heatmap')\n",
        "plt.show()\n"
      ],
      "metadata": {
        "colab": {
          "base_uri": "https://localhost:8080/",
          "height": 545
        },
        "id": "xqLKZqycPPgh",
        "outputId": "131bb9a5-fa72-4f25-9980-ebcb11176377"
      },
      "execution_count": 22,
      "outputs": [
        {
          "output_type": "display_data",
          "data": {
            "text/plain": [
              "<Figure size 800x600 with 2 Axes>"
            ],
            "image/png": "[encoded data removed]"
          },
          "metadata": {}
        }
      ]
    },
    {
      "cell_type": "markdown",
      "source": [
        "21. **Use seaborn to create a correlation matrix for a dataset.**"
      ],
      "metadata": {
        "id": "-ERGyjpRPX7I"
      }
    },
    {
      "cell_type": "code",
      "source": [
        "import numpy as np\n",
        "import pandas as pd\n",
        "import seaborn as sns\n",
        "import matplotlib.pyplot as plt\n",
        "\n",
        "# Simulate a dataset with 4 variables\n",
        "np.random.seed(42)\n",
        "data = pd.DataFrame({\n",
        "    'A': np.random.normal(0, 1, 100),\n",
        "    'B': np.random.normal(5, 2, 100),\n",
        "    'C': np.random.normal(-3, 5, 100),\n",
        "    'D': np.random.normal(10, 3, 100)\n",
        "})\n",
        "\n",
        "# Calculate correlation matrix\n",
        "corr_matrix = data.corr()\n",
        "\n",
        "# Plot correlation heatmap\n",
        "plt.figure(figsize=(8, 6))\n",
        "sns.heatmap(corr_matrix, annot=True, cmap='coolwarm', center=0)\n",
        "plt.title('Correlation Matrix Heatmap')\n",
        "plt.show()\n"
      ],
      "metadata": {
        "colab": {
          "base_uri": "https://localhost:8080/",
          "height": 545
        },
        "id": "XZxbhqApPyEk",
        "outputId": "c4d7dbbc-bf1e-41c8-d20e-acbccee1ad68"
      },
      "execution_count": 24,
      "outputs": [
        {
          "output_type": "display_data",
          "data": {
            "text/plain": [
              "<Figure size 800x600 with 2 Axes>"
            ],
            "image/png": "[encoded data removed]"
          },
          "metadata": {}
        }
      ]
    },
    {
      "cell_type": "markdown",
      "source": [
        "22. **Generate a dataset and implement both variance and standard deviation computations.**"
      ],
      "metadata": {
        "id": "MjUbbchRP0oC"
      }
    },
    {
      "cell_type": "code",
      "source": [
        "import numpy as np\n",
        "\n",
        "# Generate a random dataset of 20 numbers from a normal distribution\n",
        "np.random.seed(1)\n",
        "data = np.random.normal(loc=50, scale=5, size=20)\n",
        "\n",
        "# Manual computation of variance and standard deviation (sample)\n",
        "mean = np.mean(data)\n",
        "variance_manual = sum((x - mean) ** 2 for x in data) / (len(data) - 1)\n",
        "std_dev_manual = variance_manual ** 0.5\n",
        "\n",
        "# Using NumPy built-in functions\n",
        "variance_np = np.var(data, ddof=1)  # ddof=1 for sample variance\n",
        "std_dev_np = np.std(data, ddof=1)\n",
        "\n",
        "print(\"Data:\", data)\n",
        "print(f\"Manual Variance: {variance_manual:.4f}\")\n",
        "print(f\"NumPy Variance: {variance_np:.4f}\")\n",
        "print(f\"Manual Standard Deviation: {std_dev_manual:.4f}\")\n",
        "print(f\"NumPy Standard Deviation: {std_dev_np:.4f}\")\n"
      ],
      "metadata": {
        "colab": {
          "base_uri": "https://localhost:8080/"
        },
        "id": "9suBdwfRP5jS",
        "outputId": "4de1df24-4312-4feb-ae7c-4a514d48956d"
      },
      "execution_count": 25,
      "outputs": [
        {
          "output_type": "stream",
          "name": "stdout",
          "text": [
            "Data: [58.12172682 46.94121793 47.35914124 44.63515689 54.32703815 38.49230652\n",
            " 58.72405882 46.1939655  51.59519548 48.75314812 57.31053969 39.69929645\n",
            " 48.38791398 48.07972823 55.66884721 44.50054366 49.13785896 45.61070791\n",
            " 50.21106873 52.91407607]\n",
            "Manual Variance: 31.8308\n",
            "NumPy Variance: 31.8308\n",
            "Manual Standard Deviation: 5.6419\n",
            "NumPy Standard Deviation: 5.6419\n"
          ]
        }
      ]
    },
    {
      "cell_type": "markdown",
      "source": [
        "23. **Visualize skewness and kurtosis using Python libraries like matplotlib or seaborn.**"
      ],
      "metadata": {
        "id": "iv7j7Vx_QDjt"
      }
    },
    {
      "cell_type": "code",
      "source": [
        "import numpy as np\n",
        "import seaborn as sns\n",
        "import matplotlib.pyplot as plt\n",
        "from scipy.stats import skew, kurtosis\n",
        "\n",
        "# Generate data with some skewness (exponential) and kurtosis\n",
        "np.random.seed(0)\n",
        "data = np.random.exponential(scale=2, size=1000)\n",
        "\n",
        "# Calculate skewness and kurtosis\n",
        "data_skewness = skew(data)\n",
        "data_kurtosis = kurtosis(data)  # excess kurtosis (normal = 0)\n",
        "\n",
        "# Plot histogram and KDE\n",
        "plt.figure(figsize=(8, 6))\n",
        "sns.histplot(data, kde=True, color='skyblue', bins=30)\n",
        "plt.title('Data Distribution with Skewness and Kurtosis')\n",
        "\n",
        "# Annotate skewness and kurtosis on the plot\n",
        "plt.text(x=max(data)*0.6, y=80, s=f\"Skewness: {data_skewness:.2f}\", fontsize=12)\n",
        "plt.text(x=max(data)*0.6, y=70, s=f\"Kurtosis: {data_kurtosis:.2f}\", fontsize=12)\n",
        "\n",
        "plt.xlabel('Value')\n",
        "plt.ylabel('Frequency')\n",
        "plt.show()\n"
      ],
      "metadata": {
        "colab": {
          "base_uri": "https://localhost:8080/",
          "height": 564
        },
        "id": "hEs02YU6QHuR",
        "outputId": "66d99b6a-3515-48d4-f57b-8a4c3887aa08"
      },
      "execution_count": 26,
      "outputs": [
        {
          "output_type": "display_data",
          "data": {
            "text/plain": [
              "<Figure size 800x600 with 1 Axes>"
            ],
            "image/png": "[encoded data removed]"
          },
          "metadata": {}
        }
      ]
    },
    {
      "cell_type": "markdown",
      "source": [
        "24. **Implement the Pearson and Spearman correlation coefficients for a dataset.**"
      ],
      "metadata": {
        "id": "v_7vkdEBQTLY"
      }
    },
    {
      "cell_type": "code",
      "source": [
        "import numpy as np\n",
        "from scipy.stats import pearsonr, spearmanr\n",
        "\n",
        "# Simulate two related datasets\n",
        "np.random.seed(0)\n",
        "x = np.random.normal(50, 10, 100)\n",
        "y = 2 * x + np.random.normal(0, 10, 100)  # roughly linear relation\n",
        "\n",
        "# Calculate Pearson correlation coefficient\n",
        "pearson_corr, pearson_pval = pearsonr(x, y)\n",
        "\n",
        "# Calculate Spearman correlation coefficient\n",
        "spearman_corr, spearman_pval = spearmanr(x, y)\n",
        "\n",
        "print(f\"Pearson correlation: {pearson_corr:.3f} (p-value: {pearson_pval:.3g})\")\n",
        "print(f\"Spearman correlation: {spearman_corr:.3f} (p-value: {spearman_pval:.3g})\")\n"
      ],
      "metadata": {
        "colab": {
          "base_uri": "https://localhost:8080/"
        },
        "id": "JiXycfQ9QXi-",
        "outputId": "c379cbf8-28b5-4e13-c7fc-1fa8e55e68fe"
      },
      "execution_count": 27,
      "outputs": [
        {
          "output_type": "stream",
          "name": "stdout",
          "text": [
            "Pearson correlation: 0.901 (p-value: 2.96e-37)\n",
            "Spearman correlation: 0.876 (p-value: 8.3e-33)\n"
          ]
        }
      ]
    }
  ]
}